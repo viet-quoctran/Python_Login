{
 "cells": [
  {
   "cell_type": "code",
   "execution_count": null,
   "metadata": {},
   "outputs": [],
   "source": [
    "dicionary = {}\n",
    "def sign_in():\n",
    "    account = input('Nhập tài khoản')\n",
    "    password = input('Nhập mật khẩu')\n",
    "    if account in dicionary and password in dicionary[account]['password']:\n",
    "        print('Oke')\n",
    "def sign_up():\n",
    "    account = input('Nhập tài khoản')\n",
    "    password = input('Nhập mật khẩu')\n",
    "    if account not in dicionary:\n",
    "        dicionary[account] = {'password':[password]}\n",
    "        print(f'Tạo thành công : {dicionary[account]}')\n",
    "    elif account in dicionary:\n",
    "        print('Đã có tài khoản')\n",
    "while True:\n",
    "    check_status = input('Nhập i để sign in , u để sign up hoặc phím bất kỳ để dừng')\n",
    "    if check_status == 'i':\n",
    "        sign_in()\n",
    "    elif check_status == 'u':\n",
    "        sign_up()\n",
    "    else:\n",
    "        break\n",
    "    "
   ]
  }
 ],
 "metadata": {
  "language_info": {
   "name": "python"
  }
 },
 "nbformat": 4,
 "nbformat_minor": 2
}
